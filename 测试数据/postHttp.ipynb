{
 "cells": [
  {
   "cell_type": "code",
   "execution_count": 124,
   "id": "01caae98",
   "metadata": {},
   "outputs": [],
   "source": [
    "import urllib3"
   ]
  },
  {
   "cell_type": "code",
   "execution_count": 125,
   "id": "44cc0607",
   "metadata": {},
   "outputs": [],
   "source": [
    "import numpy as np\n",
    "import matplotlib.pyplot as plt\n",
    "from matplotlib import font_manager\n",
    "\n",
    "fontP = font_manager.FontProperties()\n",
    "fontP.set_family('SimHei')\n",
    "fontP.set_size(14)\n",
    "\n",
    "beacon = []\n",
    "\n",
    "with open(\"B23测试车场蓝牙坐标.txt\") as f:\n",
    "    data = f.readlines()\n",
    "    index = 0\n",
    "    for i in range(len(data)):\n",
    "        data[i] = data[i].rstrip(\"\\n\")\n",
    "        splits = data[i].split(',')\n",
    "        #print(splits)\n",
    "        if ( len(splits)<5 ):\n",
    "            continue\n",
    "        else:\n",
    "            beacon.append(splits)\n",
    "            \n",
    "#print(beacon)\n",
    "Beacon_xy = np.zeros((len(beacon),2))\n",
    "for i in range(Beacon_xy.shape[0]):\n",
    "    Beacon_xy[i,0] = beacon[i][3]\n",
    "    Beacon_xy[i,1] = beacon[i][4]"
   ]
  },
  {
   "cell_type": "code",
   "execution_count": 131,
   "id": "4a59470c",
   "metadata": {},
   "outputs": [],
   "source": [
    "import json\n",
    "\n",
    "beacon_seq = []\n",
    "compass_seq = []\n",
    "accelerometer_seq = []\n",
    "deviceMotion_seq = []\n",
    "with open(\"beacon.log\") as f:\n",
    "    lines = f.readlines()\n",
    "    #print(data)\n",
    "    #json.loads(data[0])\n",
    "    for line in lines:\n",
    "        #print (line)\n",
    "        try:\n",
    "            res_sparse = json.loads(line[24:])\n",
    "        #print (a)\n",
    "        \n",
    "        except Exception as e:\n",
    "            continue\n",
    "        beacon_response = []\n",
    "        compass_samples = []\n",
    "        accelerometer_samples = []\n",
    "        deviceMotion_samples = []\n",
    "        for res in res_sparse:\n",
    "            #解析信标\n",
    "            if res['type'] == 'ibeacon':\n",
    "                for one_beacon in res['res']:\n",
    "                    beacon_response.append(one_beacon)\n",
    "            if res['type'] == 'compass':\n",
    "                #解析罗盘\n",
    "                compass_samples.append(res['res'])\n",
    "            if res['type'] == 'accelerometer':\n",
    "                #解析加速器\n",
    "                accelerometer_samples.append(res['res'])\n",
    "            if res['type'] == 'deviceMotion':\n",
    "                #解析设备方向\n",
    "                deviceMotion_samples.append(res['res'])\n",
    "        beacon_seq.append(beacon_response)\n",
    "        compass_seq.append(compass_samples)\n",
    "        accelerometer_seq.append(accelerometer_samples)\n",
    "        deviceMotion_seq.append(deviceMotion_samples)\n"
   ]
  },
  {
   "cell_type": "code",
   "execution_count": null,
   "id": "2389d189",
   "metadata": {},
   "outputs": [],
   "source": []
  },
  {
   "cell_type": "code",
   "execution_count": 179,
   "id": "75518ad9",
   "metadata": {},
   "outputs": [
    {
     "name": "stdout",
     "output_type": "stream",
     "text": [
      "[['a99bc9df-84ae-418c-bf7b-2dd963fe109f', 10000, 34055, -63, 0.018286347079897472], ['a99bc9df-84ae-418c-bf7b-2dd963fe109f', 10000, 34051, -66, 0.029117951573755272], ['a99bc9df-84ae-418c-bf7b-2dd963fe109f', 10000, 34054, -69, 0.045416364981985265], ['a99bc9df-84ae-418c-bf7b-2dd963fe109f', 10000, 34050, -69, 0.05054304722235554], ['a99bc9df-84ae-418c-bf7b-2dd963fe109f', 10000, 34054, -72, 0.06950986232378248], ['a99bc9df-84ae-418c-bf7b-2dd963fe109f', 10000, 34052, -79, 0.1757892757713928], ['a99bc9df-84ae-418c-bf7b-2dd963fe109f', 10000, 34041, -79, 0.1757892757713928], ['a99bc9df-84ae-418c-bf7b-2dd963fe109f', 10000, 34047, -83, 0.28807288880631093], ['a99bc9df-84ae-418c-bf7b-2dd963fe109f', 10000, 34041, -85, 0.36551964322715796], ['a99bc9df-84ae-418c-bf7b-2dd963fe109f', 10000, 34049, -88, 0.5754362750005042], ['a99bc9df-84ae-418c-bf7b-2dd963fe109f', 10000, 34043, -99, 2.0920487932032255]]\n",
      "b'{\"location\": {\"x\": 29413.36217826646, \"y\": 10396.94584905347}, \"kalmanFactor\": {\"evalkk\": [[0, 0]], \"Pkk1\": [[0, 0], [0, 0]], \"Q\": 200.0, \"R\": 200.0}, \"msg\": \"\", \"status\": \"Success\"}'\n"
     ]
    }
   ],
   "source": [
    "import json\n",
    "import time\n",
    "#url = \"http://114.55.32.219:18001/API/localization、\"\n",
    "url = \"http://127.0.0.1:8000/API/localization/\"\n",
    "res_loc = [[0,0]]\n",
    "kalmanFactor=[[0,0],[[0,0],[0,0]],200,200]\n",
    "keys = ['res','timestamps','type']\n",
    "with open(\"beacon.log\") as f:\n",
    "    lines = f.readlines()\n",
    "    for line in lines[100:]:\n",
    "        try:\n",
    "            res_sparse = json.loads(line[24:])\n",
    "        #print (a)\n",
    "        \n",
    "        except Exception as e:\n",
    "            continue\n",
    "        t = time.time()\n",
    "        tmp1 = dict(zip(keys,[kalmanFactor,t,'last_kalman']))\n",
    "        tmp2 = dict(zip(keys,[res_loc[-1],t,'last_loc']))\n",
    "        \n",
    "        #postdata = json.loads(line)\n",
    "        postdata = res_sparse\n",
    "        postdata.append(tmp1)\n",
    "        postdata.append(tmp2)\n",
    "        http = urllib3.PoolManager()\n",
    "        response = http.request('POST',url,body = json.dumps(postdata).encode('utf-8'),headers={'Content-Type': 'application/json'})\n",
    "        #response = urllib3.urlopen(requests)        \n",
    "        print(beacon_seq[100])\n",
    "        print(response.data)\n",
    "        res = json.loads(response.data)\n",
    "        if res['location']['x']>0:\n",
    "            res_loc.append([res['location']['x'],res['location']['y']])\n",
    "        kalmanFactor = [res['kalmanFactor']['evalkk'],res['kalmanFactor']['Pkk1'],res['kalmanFactor']['Q'],res['kalmanFactor']['R']] \n",
    "        break"
   ]
  },
  {
   "cell_type": "code",
   "execution_count": 181,
   "id": "57257b1a",
   "metadata": {
    "scrolled": false
   },
   "outputs": [
    {
     "data": {
      "image/png": "[encoded data removed]",
      "text/plain": [
       "<Figure size 432x432 with 1 Axes>"
      ]
     },
     "metadata": {
      "needs_background": "light"
     },
     "output_type": "display_data"
    }
   ],
   "source": [
    "def Convert(lst):\n",
    "    unpack = []\n",
    "    for i in lst:\n",
    "        unpack.extend(i)\n",
    "    res_dct = {unpack[i]+'_'+unpack[i+1]+'_'+unpack[i+2]: unpack[i+3:i+5] for i in range(0, len(unpack), 5)}\n",
    "    return res_dct\n",
    "def GetXY(dct,uid):\n",
    "    try:\n",
    "        XY = dct[uid]\n",
    "        return [float(i) for i in XY]\n",
    "    except KeyError:\n",
    "        return -1\n",
    "# 将step按RSS排序\n",
    "def takeRSS(elem):\n",
    "    return elem[3]\n",
    "beacon_dic = Convert(beacon)\n",
    "cur_step = []\n",
    "for one_beacon in beacon_seq[50]:\n",
    "    if GetXY(beacon_dic,one_beacon[0].lower()+'_'+str(one_beacon[1])+'_'+str(one_beacon[2])) != -1 :\n",
    "        cur_step.append(one_beacon)\n",
    "#cur_step = beacon_seq[100]\n",
    "cur_step.sort(key=takeRSS,reverse = True)\n",
    "cur_step = cur_step[0:3]\n",
    "distance = np.zeros(3)\n",
    "points = np.ones((3,2))\n",
    "points[0] = GetXY(beacon_dic,cur_step[0][0].lower()+'_'+str(cur_step[0][1])+'_'+str(cur_step[0][2]))\n",
    "points[1] = GetXY(beacon_dic,cur_step[1][0].lower()+'_'+str(cur_step[1][1])+'_'+str(cur_step[1][2]))\n",
    "points[2] = GetXY(beacon_dic,cur_step[2][0].lower()+'_'+str(cur_step[2][1])+'_'+str(cur_step[2][2]))\n",
    "distance = np.zeros(3)\n",
    "distance[0] = cur_step[0][4]\n",
    "distance[1] = cur_step[1][4]\n",
    "distance[2] = cur_step[2][4]\n",
    "plt.figure(figsize=(6,6))\n",
    "plt.title(\"加权定位：信标位置与预测路径\", fontproperties=fontP)\n",
    "res_loc_array = np.array(res_loc)\n",
    "plt.plot(res_loc_array[1:,0]/1000,res_loc_array[1:,1]/1000,'r.')\n",
    "plt.plot(Beacon_xy[:,0]/1000,Beacon_xy[:,1]/1000,'.')\n",
    "plt.plot(points[:,0]/1000,points[:,1]/1000,'bx')\n",
    "plt.gca().set_aspect(1)\n",
    "plt.show()   "
   ]
  },
  {
   "cell_type": "code",
   "execution_count": 182,
   "id": "5fa2c00f",
   "metadata": {},
   "outputs": [
    {
     "data": {
      "text/plain": [
       "array([[32.613,  1.767],\n",
       "       [31.931, 11.736],\n",
       "       [11.669, 11.291]])"
      ]
     },
     "execution_count": 182,
     "metadata": {},
     "output_type": "execute_result"
    }
   ],
   "source": [
    "points/1000"
   ]
  },
  {
   "cell_type": "code",
   "execution_count": 183,
   "id": "77bd05f5",
   "metadata": {},
   "outputs": [
    {
     "data": {
      "text/plain": [
       "array([0.02035054, 0.02140529, 0.13602813])"
      ]
     },
     "execution_count": 183,
     "metadata": {},
     "output_type": "execute_result"
    }
   ],
   "source": [
    "distance"
   ]
  },
  {
   "cell_type": "code",
   "execution_count": 184,
   "id": "2d179065",
   "metadata": {},
   "outputs": [
    {
     "data": {
      "text/plain": [
       "array([[29.41336218, 10.39694585]])"
      ]
     },
     "execution_count": 184,
     "metadata": {},
     "output_type": "execute_result"
    }
   ],
   "source": [
    "res_loc_array[1:]/1000"
   ]
  },
  {
   "cell_type": "code",
   "execution_count": 185,
   "id": "342ea815",
   "metadata": {},
   "outputs": [
    {
     "data": {
      "text/plain": [
       "array([ 9.20400171,  2.85159012, 17.76687147])"
      ]
     },
     "execution_count": 185,
     "metadata": {},
     "output_type": "execute_result"
    }
   ],
   "source": [
    "def Distance2D(Array_point,location):\n",
    "    if Array_point.shape[1] !=2 or location.shape[1] != 2:\n",
    "        logger.info(\"不是二维点\")\n",
    "        return\n",
    "    return np.array([np.sqrt((i[0]-location[0,0])**2 +(i[1]-location[0,1])**2)   for i in Array_point])  \n",
    "Distance2D(points/1000,res_loc_array[1:]/1000)"
   ]
  },
  {
   "cell_type": "code",
   "execution_count": 186,
   "id": "af28d952",
   "metadata": {},
   "outputs": [
    {
     "data": {
      "text/plain": [
       "[['a99bc9df-84ae-418c-bf7b-2dd963fe109f',\n",
       "  10000,\n",
       "  34050,\n",
       "  -63,\n",
       "  0.02035054334159614],\n",
       " ['a99bc9df-84ae-418c-bf7b-2dd963fe109f',\n",
       "  10000,\n",
       "  34046,\n",
       "  -64,\n",
       "  0.021405294326807753],\n",
       " ['a99bc9df-84ae-418c-bf7b-2dd963fe109f',\n",
       "  10000,\n",
       "  34054,\n",
       "  -77,\n",
       "  0.13602812622327007]]"
      ]
     },
     "execution_count": 186,
     "metadata": {},
     "output_type": "execute_result"
    }
   ],
   "source": [
    "#上次位置，没有的话填默认\n",
    "cur_step"
   ]
  },
  {
   "cell_type": "code",
   "execution_count": 180,
   "id": "b2f146ca",
   "metadata": {},
   "outputs": [
    {
     "data": {
      "text/plain": [
       "[['a99bc9df-84ae-418c-bf7b-2dd963fe109f',\n",
       "  10000,\n",
       "  34046,\n",
       "  -64,\n",
       "  0.021405294326807753],\n",
       " ['a99bc9df-84ae-418c-bf7b-2dd963fe109f',\n",
       "  10000,\n",
       "  34054,\n",
       "  -77,\n",
       "  0.13602812622327007],\n",
       " ['a99bc9df-84ae-418c-bf7b-2dd963fe109f',\n",
       "  10000,\n",
       "  34042,\n",
       "  -91,\n",
       "  0.8046081692276548],\n",
       " ['a99bc9df-84ae-418c-bf7b-2dd963fe109f',\n",
       "  10000,\n",
       "  34050,\n",
       "  -63,\n",
       "  0.02035054334159614],\n",
       " ['a99bc9df-84ae-418c-bf7b-2dd963fe109f',\n",
       "  10000,\n",
       "  34055,\n",
       "  -63,\n",
       "  0.018286347079897472]]"
      ]
     },
     "execution_count": 180,
     "metadata": {},
     "output_type": "execute_result"
    }
   ],
   "source": [
    "beacon_seq[50]"
   ]
  },
  {
   "cell_type": "code",
   "execution_count": 22,
   "id": "67a08777",
   "metadata": {},
   "outputs": [
    {
     "name": "stdout",
     "output_type": "stream",
     "text": [
      "('division by zero',)\n"
     ]
    }
   ],
   "source": [
    "try:\n",
    "    a = 1/0\n",
    "except Exception as e:\n",
    "    print(e.args)"
   ]
  }
 ],
 "metadata": {
  "kernelspec": {
   "display_name": "Python 3",
   "language": "python",
   "name": "python3"
  },
  "language_info": {
   "codemirror_mode": {
    "name": "ipython",
    "version": 3
   },
   "file_extension": ".py",
   "mimetype": "text/x-python",
   "name": "python",
   "nbconvert_exporter": "python",
   "pygments_lexer": "ipython3",
   "version": "3.8.8"
  }
 },
 "nbformat": 4,
 "nbformat_minor": 5
}
